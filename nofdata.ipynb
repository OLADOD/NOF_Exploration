{
 "cells": [
  {
   "cell_type": "markdown",
   "id": "771cb418",
   "metadata": {},
   "source": [
    "# NOF Exploration\n",
    "\n",
    "This project is to learn Python EDA and build my python muscle in the area of Data Analysis"
   ]
  },
  {
   "cell_type": "code",
   "execution_count": 6,
   "id": "b2bc954a",
   "metadata": {},
   "outputs": [
    {
     "data": {
      "text/html": [
       "<div>\n",
       "<style scoped>\n",
       "    .dataframe tbody tr th:only-of-type {\n",
       "        vertical-align: middle;\n",
       "    }\n",
       "\n",
       "    .dataframe tbody tr th {\n",
       "        vertical-align: top;\n",
       "    }\n",
       "\n",
       "    .dataframe thead th {\n",
       "        text-align: right;\n",
       "    }\n",
       "</style>\n",
       "<table border=\"1\" class=\"dataframe\">\n",
       "  <thead>\n",
       "    <tr style=\"text-align: right;\">\n",
       "      <th></th>\n",
       "      <th>Date</th>\n",
       "      <th>Domain</th>\n",
       "      <th>Metric</th>\n",
       "      <th>Region</th>\n",
       "      <th>Provider Code</th>\n",
       "      <th>Provider Name</th>\n",
       "      <th>Numerator</th>\n",
       "      <th>Denominator</th>\n",
       "    </tr>\n",
       "  </thead>\n",
       "  <tbody>\n",
       "    <tr>\n",
       "      <th>0</th>\n",
       "      <td>01/01/2025</td>\n",
       "      <td>A&amp;E</td>\n",
       "      <td>&gt;12 hours</td>\n",
       "      <td>East</td>\n",
       "      <td>RC9</td>\n",
       "      <td>Bedfordshire Hospitals NHS Foundation Trust</td>\n",
       "      <td>1390</td>\n",
       "      <td>15470</td>\n",
       "    </tr>\n",
       "    <tr>\n",
       "      <th>1</th>\n",
       "      <td>01/01/2025</td>\n",
       "      <td>A&amp;E</td>\n",
       "      <td>&gt;12 hours</td>\n",
       "      <td>East</td>\n",
       "      <td>RGT</td>\n",
       "      <td>Cambridge University Hospitals NHS Foundation ...</td>\n",
       "      <td>1355</td>\n",
       "      <td>10060</td>\n",
       "    </tr>\n",
       "    <tr>\n",
       "      <th>2</th>\n",
       "      <td>01/01/2025</td>\n",
       "      <td>A&amp;E</td>\n",
       "      <td>&gt;12 hours</td>\n",
       "      <td>East</td>\n",
       "      <td>RWH</td>\n",
       "      <td>East and North Hertfordshire NHS Trust</td>\n",
       "      <td>1495</td>\n",
       "      <td>8685</td>\n",
       "    </tr>\n",
       "    <tr>\n",
       "      <th>3</th>\n",
       "      <td>01/01/2025</td>\n",
       "      <td>A&amp;E</td>\n",
       "      <td>&gt;12 hours</td>\n",
       "      <td>East</td>\n",
       "      <td>RDE</td>\n",
       "      <td>East Suffolk and North Essex NHS Foundation Trust</td>\n",
       "      <td>2235</td>\n",
       "      <td>13230</td>\n",
       "    </tr>\n",
       "    <tr>\n",
       "      <th>4</th>\n",
       "      <td>01/01/2025</td>\n",
       "      <td>A&amp;E</td>\n",
       "      <td>&gt;12 hours</td>\n",
       "      <td>East</td>\n",
       "      <td>RGP</td>\n",
       "      <td>James Paget University Hospitals NHS Foundatio...</td>\n",
       "      <td>750</td>\n",
       "      <td>6660</td>\n",
       "    </tr>\n",
       "    <tr>\n",
       "      <th>5</th>\n",
       "      <td>01/01/2025</td>\n",
       "      <td>A&amp;E</td>\n",
       "      <td>&gt;12 hours</td>\n",
       "      <td>East</td>\n",
       "      <td>RAJ</td>\n",
       "      <td>Mid and South Essex NHS Foundation Trust</td>\n",
       "      <td>2655</td>\n",
       "      <td>22370</td>\n",
       "    </tr>\n",
       "    <tr>\n",
       "      <th>6</th>\n",
       "      <td>01/01/2025</td>\n",
       "      <td>A&amp;E</td>\n",
       "      <td>&gt;12 hours</td>\n",
       "      <td>East</td>\n",
       "      <td>RD8</td>\n",
       "      <td>Milton Keynes University Hospital NHS Foundati...</td>\n",
       "      <td>760</td>\n",
       "      <td>8405</td>\n",
       "    </tr>\n",
       "    <tr>\n",
       "      <th>7</th>\n",
       "      <td>01/01/2025</td>\n",
       "      <td>A&amp;E</td>\n",
       "      <td>&gt;12 hours</td>\n",
       "      <td>East</td>\n",
       "      <td>RM1</td>\n",
       "      <td>Norfolk and Norwich University Hospitals NHS F...</td>\n",
       "      <td>860</td>\n",
       "      <td>12015</td>\n",
       "    </tr>\n",
       "    <tr>\n",
       "      <th>8</th>\n",
       "      <td>01/01/2025</td>\n",
       "      <td>A&amp;E</td>\n",
       "      <td>&gt;12 hours</td>\n",
       "      <td>East</td>\n",
       "      <td>RGN</td>\n",
       "      <td>North West Anglia NHS Foundation Trust</td>\n",
       "      <td>2025</td>\n",
       "      <td>14795</td>\n",
       "    </tr>\n",
       "    <tr>\n",
       "      <th>9</th>\n",
       "      <td>01/01/2025</td>\n",
       "      <td>A&amp;E</td>\n",
       "      <td>&gt;12 hours</td>\n",
       "      <td>East</td>\n",
       "      <td>RQW</td>\n",
       "      <td>The Princess Alexandra Hospital NHS Trust</td>\n",
       "      <td>1540</td>\n",
       "      <td>9450</td>\n",
       "    </tr>\n",
       "  </tbody>\n",
       "</table>\n",
       "</div>"
      ],
      "text/plain": [
       "         Date Domain     Metric Region Provider Code  \\\n",
       "0  01/01/2025    A&E  >12 hours   East           RC9   \n",
       "1  01/01/2025    A&E  >12 hours   East           RGT   \n",
       "2  01/01/2025    A&E  >12 hours   East           RWH   \n",
       "3  01/01/2025    A&E  >12 hours   East           RDE   \n",
       "4  01/01/2025    A&E  >12 hours   East           RGP   \n",
       "5  01/01/2025    A&E  >12 hours   East           RAJ   \n",
       "6  01/01/2025    A&E  >12 hours   East           RD8   \n",
       "7  01/01/2025    A&E  >12 hours   East           RM1   \n",
       "8  01/01/2025    A&E  >12 hours   East           RGN   \n",
       "9  01/01/2025    A&E  >12 hours   East           RQW   \n",
       "\n",
       "                                       Provider Name Numerator Denominator  \n",
       "0        Bedfordshire Hospitals NHS Foundation Trust      1390       15470  \n",
       "1  Cambridge University Hospitals NHS Foundation ...      1355       10060  \n",
       "2             East and North Hertfordshire NHS Trust      1495        8685  \n",
       "3  East Suffolk and North Essex NHS Foundation Trust      2235       13230  \n",
       "4  James Paget University Hospitals NHS Foundatio...       750        6660  \n",
       "5           Mid and South Essex NHS Foundation Trust      2655       22370  \n",
       "6  Milton Keynes University Hospital NHS Foundati...       760        8405  \n",
       "7  Norfolk and Norwich University Hospitals NHS F...       860       12015  \n",
       "8             North West Anglia NHS Foundation Trust      2025       14795  \n",
       "9          The Princess Alexandra Hospital NHS Trust      1540        9450  "
      ]
     },
     "execution_count": 6,
     "metadata": {},
     "output_type": "execute_result"
    }
   ],
   "source": [
    "import pandas as pd\n",
    "\n",
    "df = pd.read_csv(\"Combined Data_2025-10-17_1639.csv\")\n",
    "\n",
    "df.head(10)"
   ]
  },
  {
   "cell_type": "code",
   "execution_count": 7,
   "id": "0d1bbad2",
   "metadata": {},
   "outputs": [
    {
     "name": "stdout",
     "output_type": "stream",
     "text": [
      "<class 'pandas.core.frame.DataFrame'>\n",
      "RangeIndex: 8379 entries, 0 to 8378\n",
      "Data columns (total 8 columns):\n",
      " #   Column         Non-Null Count  Dtype \n",
      "---  ------         --------------  ----- \n",
      " 0   Date           8379 non-null   object\n",
      " 1   Domain         8379 non-null   object\n",
      " 2   Metric         8379 non-null   object\n",
      " 3   Region         8379 non-null   object\n",
      " 4   Provider Code  8379 non-null   object\n",
      " 5   Provider Name  8379 non-null   object\n",
      " 6   Numerator      8379 non-null   object\n",
      " 7   Denominator    8379 non-null   object\n",
      "dtypes: object(8)\n",
      "memory usage: 523.8+ KB\n"
     ]
    }
   ],
   "source": [
    "df.info()"
   ]
  },
  {
   "cell_type": "code",
   "execution_count": 8,
   "id": "96efbcc6",
   "metadata": {},
   "outputs": [
    {
     "data": {
      "text/html": [
       "<div>\n",
       "<style scoped>\n",
       "    .dataframe tbody tr th:only-of-type {\n",
       "        vertical-align: middle;\n",
       "    }\n",
       "\n",
       "    .dataframe tbody tr th {\n",
       "        vertical-align: top;\n",
       "    }\n",
       "\n",
       "    .dataframe thead th {\n",
       "        text-align: right;\n",
       "    }\n",
       "</style>\n",
       "<table border=\"1\" class=\"dataframe\">\n",
       "  <thead>\n",
       "    <tr style=\"text-align: right;\">\n",
       "      <th></th>\n",
       "      <th>Date</th>\n",
       "      <th>Domain</th>\n",
       "      <th>Metric</th>\n",
       "      <th>Region</th>\n",
       "      <th>Provider Code</th>\n",
       "      <th>Provider Name</th>\n",
       "      <th>Numerator</th>\n",
       "      <th>Denominator</th>\n",
       "    </tr>\n",
       "  </thead>\n",
       "  <tbody>\n",
       "    <tr>\n",
       "      <th>count</th>\n",
       "      <td>8379</td>\n",
       "      <td>8379</td>\n",
       "      <td>8379</td>\n",
       "      <td>8379</td>\n",
       "      <td>8379</td>\n",
       "      <td>8379</td>\n",
       "      <td>8379</td>\n",
       "      <td>8379</td>\n",
       "    </tr>\n",
       "    <tr>\n",
       "      <th>unique</th>\n",
       "      <td>9</td>\n",
       "      <td>4</td>\n",
       "      <td>8</td>\n",
       "      <td>7</td>\n",
       "      <td>155</td>\n",
       "      <td>328</td>\n",
       "      <td>4813</td>\n",
       "      <td>5662</td>\n",
       "    </tr>\n",
       "    <tr>\n",
       "      <th>top</th>\n",
       "      <td>01/02/2025</td>\n",
       "      <td>Cancer</td>\n",
       "      <td>6+ Weeks</td>\n",
       "      <td>Midlands</td>\n",
       "      <td>RC9</td>\n",
       "      <td>UNIVERSITY HOSPITALS PLYMOUTH NHS TRUST</td>\n",
       "      <td>0</td>\n",
       "      <td>**</td>\n",
       "    </tr>\n",
       "    <tr>\n",
       "      <th>freq</th>\n",
       "      <td>1017</td>\n",
       "      <td>2831</td>\n",
       "      <td>1238</td>\n",
       "      <td>1442</td>\n",
       "      <td>66</td>\n",
       "      <td>40</td>\n",
       "      <td>66</td>\n",
       "      <td>25</td>\n",
       "    </tr>\n",
       "  </tbody>\n",
       "</table>\n",
       "</div>"
      ],
      "text/plain": [
       "              Date  Domain    Metric    Region Provider Code  \\\n",
       "count         8379    8379      8379      8379          8379   \n",
       "unique           9       4         8         7           155   \n",
       "top     01/02/2025  Cancer  6+ Weeks  Midlands           RC9   \n",
       "freq          1017    2831      1238      1442            66   \n",
       "\n",
       "                                  Provider Name Numerator Denominator  \n",
       "count                                      8379      8379        8379  \n",
       "unique                                      328      4813        5662  \n",
       "top     UNIVERSITY HOSPITALS PLYMOUTH NHS TRUST         0          **  \n",
       "freq                                         40        66          25  "
      ]
     },
     "execution_count": 8,
     "metadata": {},
     "output_type": "execute_result"
    }
   ],
   "source": [
    "df.describe()"
   ]
  },
  {
   "cell_type": "code",
   "execution_count": 9,
   "id": "af5580fe",
   "metadata": {},
   "outputs": [
    {
     "data": {
      "text/plain": [
       "(8379, 8)"
      ]
     },
     "execution_count": 9,
     "metadata": {},
     "output_type": "execute_result"
    }
   ],
   "source": [
    "df.shape"
   ]
  },
  {
   "cell_type": "code",
   "execution_count": 10,
   "id": "11553fd7",
   "metadata": {},
   "outputs": [
    {
     "data": {
      "text/plain": [
       "Index(['Date', 'Domain', 'Metric', 'Region', 'Provider Code', 'Provider Name',\n",
       "       'Numerator', 'Denominator'],\n",
       "      dtype='object')"
      ]
     },
     "execution_count": 10,
     "metadata": {},
     "output_type": "execute_result"
    }
   ],
   "source": [
    "df.columns"
   ]
  },
  {
   "cell_type": "code",
   "execution_count": 11,
   "id": "46f23ae6",
   "metadata": {},
   "outputs": [],
   "source": [
    "df = df.dropna()"
   ]
  },
  {
   "cell_type": "code",
   "execution_count": 12,
   "id": "79e95cc9",
   "metadata": {},
   "outputs": [],
   "source": [
    "df.columns = df.columns.str.replace(\" \", \"_\")"
   ]
  },
  {
   "cell_type": "code",
   "execution_count": 13,
   "id": "9cbb562a",
   "metadata": {},
   "outputs": [
    {
     "data": {
      "text/plain": [
       "Index(['Date', 'Domain', 'Metric', 'Region', 'Provider_Code', 'Provider_Name',\n",
       "       'Numerator', 'Denominator'],\n",
       "      dtype='object')"
      ]
     },
     "execution_count": 13,
     "metadata": {},
     "output_type": "execute_result"
    }
   ],
   "source": [
    "df.columns"
   ]
  },
  {
   "cell_type": "code",
   "execution_count": 19,
   "id": "ee43bd17",
   "metadata": {},
   "outputs": [],
   "source": [
    "df[\"Numerator\"] = pd.to_numeric(df[\"Numerator\"], errors = \"coerce\")\n",
    "df[\"Denominator\"] = pd.to_numeric(df[\"Denominator\"], errors = \"coerce\")"
   ]
  },
  {
   "cell_type": "code",
   "execution_count": 20,
   "id": "a6b3b303",
   "metadata": {},
   "outputs": [
    {
     "name": "stdout",
     "output_type": "stream",
     "text": [
      "<class 'pandas.core.frame.DataFrame'>\n",
      "RangeIndex: 8379 entries, 0 to 8378\n",
      "Data columns (total 8 columns):\n",
      " #   Column         Non-Null Count  Dtype  \n",
      "---  ------         --------------  -----  \n",
      " 0   Date           8379 non-null   object \n",
      " 1   Domain         8379 non-null   object \n",
      " 2   Metric         8379 non-null   object \n",
      " 3   Region         8379 non-null   object \n",
      " 4   Provider_Code  8379 non-null   object \n",
      " 5   Provider_Name  8379 non-null   object \n",
      " 6   Numerator      8342 non-null   float64\n",
      " 7   Denominator    8354 non-null   float64\n",
      "dtypes: float64(2), object(6)\n",
      "memory usage: 523.8+ KB\n"
     ]
    }
   ],
   "source": [
    "df.info()"
   ]
  },
  {
   "cell_type": "code",
   "execution_count": 28,
   "id": "6a766bf3",
   "metadata": {},
   "outputs": [
    {
     "data": {
      "text/plain": [
       "Date              object\n",
       "Domain            object\n",
       "Metric            object\n",
       "Region            object\n",
       "Provider_Code     object\n",
       "Provider_Name     object\n",
       "Numerator        float64\n",
       "Denominator      float64\n",
       "dtype: object"
      ]
     },
     "execution_count": 28,
     "metadata": {},
     "output_type": "execute_result"
    }
   ],
   "source": [
    "df.dtypes"
   ]
  }
 ],
 "metadata": {
  "kernelspec": {
   "display_name": "Python 3",
   "language": "python",
   "name": "python3"
  },
  "language_info": {
   "codemirror_mode": {
    "name": "ipython",
    "version": 3
   },
   "file_extension": ".py",
   "mimetype": "text/x-python",
   "name": "python",
   "nbconvert_exporter": "python",
   "pygments_lexer": "ipython3",
   "version": "3.13.0"
  }
 },
 "nbformat": 4,
 "nbformat_minor": 5
}
